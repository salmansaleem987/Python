{
 "cells": [
  {
   "cell_type": "code",
   "execution_count": 6,
   "metadata": {},
   "outputs": [
    {
     "name": "stdout",
     "output_type": "stream",
     "text": [
      "Ticket price is 250\n"
     ]
    }
   ],
   "source": [
    "age=int(input(\"Enter your age\"))\n",
    "if age==0:\n",
    "    print(\"You cannot watch movie\")\n",
    "elif age>0 and age<=3:\n",
    "    print(\"Ticket is free\")\n",
    "elif age>4 and age <=10:\n",
    "    print(\"Ticket price is 150\")\n",
    "elif age>10 and age<30:\n",
    "    print(\"Ticket price is 250\")\n",
    "elif age>30 and age<=50:\n",
    "    print(\"Ticket is 550\")\n",
    "else:\n",
    "    print(\"You cannot watch movie\")\n"
   ]
  },
  {
   "cell_type": "code",
   "execution_count": null,
   "metadata": {},
   "outputs": [],
   "source": []
  }
 ],
 "metadata": {
  "kernelspec": {
   "display_name": "Python 3",
   "language": "python",
   "name": "python3"
  },
  "language_info": {
   "codemirror_mode": {
    "name": "ipython",
    "version": 3
   },
   "file_extension": ".py",
   "mimetype": "text/x-python",
   "name": "python",
   "nbconvert_exporter": "python",
   "pygments_lexer": "ipython3",
   "version": "3.11.4"
  },
  "orig_nbformat": 4
 },
 "nbformat": 4,
 "nbformat_minor": 2
}
