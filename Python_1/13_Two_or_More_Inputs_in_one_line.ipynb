{
 "cells": [
  {
   "cell_type": "code",
   "execution_count": 2,
   "metadata": {},
   "outputs": [
    {
     "name": "stdout",
     "output_type": "stream",
     "text": [
      "salman\n",
      "24\n"
     ]
    }
   ],
   "source": [
    "name ,age=input(\"Enter name and age\").split()    # Split is a string method\n",
    "print(name)\n",
    "print(age)"
   ]
  },
  {
   "cell_type": "code",
   "execution_count": 3,
   "metadata": {},
   "outputs": [
    {
     "name": "stdout",
     "output_type": "stream",
     "text": [
      "Hello salmn age is 24\n"
     ]
    }
   ],
   "source": [
    "# ----------------------- String Formating -----------------------\n",
    "name = \"salmn\"\n",
    "age=24\n",
    "print(\"Hello {} age is {}\".format(name , age))"
   ]
  },
  {
   "cell_type": "code",
   "execution_count": 4,
   "metadata": {},
   "outputs": [
    {
     "name": "stdout",
     "output_type": "stream",
     "text": [
      "hello hasan and age is 10\n"
     ]
    }
   ],
   "source": [
    "# ----------------------- Advance String Formating -----------------------\n",
    "name = \"hasan\"\n",
    "age = 10\n",
    "print(f\"hello {name} and age is {age}\")"
   ]
  },
  {
   "cell_type": "code",
   "execution_count": 5,
   "metadata": {},
   "outputs": [
    {
     "name": "stdout",
     "output_type": "stream",
     "text": [
      "hello hasan and age is 15\n"
     ]
    }
   ],
   "source": [
    "print(f\"hello {name} and age is {age + 5}\")"
   ]
  },
  {
   "cell_type": "code",
   "execution_count": null,
   "metadata": {},
   "outputs": [],
   "source": []
  }
 ],
 "metadata": {
  "kernelspec": {
   "display_name": "Python 3",
   "language": "python",
   "name": "python3"
  },
  "language_info": {
   "codemirror_mode": {
    "name": "ipython",
    "version": 3
   },
   "file_extension": ".py",
   "mimetype": "text/x-python",
   "name": "python",
   "nbconvert_exporter": "python",
   "pygments_lexer": "ipython3",
   "version": "3.11.4"
  },
  "orig_nbformat": 4
 },
 "nbformat": 4,
 "nbformat_minor": 2
}
