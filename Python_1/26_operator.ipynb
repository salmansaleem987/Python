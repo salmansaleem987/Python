{
 "cells": [
  {
   "cell_type": "code",
   "execution_count": 1,
   "metadata": {},
   "outputs": [
    {
     "name": "stdout",
     "output_type": "stream",
     "text": [
      "Condition True\n"
     ]
    }
   ],
   "source": [
    "name =\"hasan\"\n",
    "age=13\n",
    "if name==\"hasan\" and age==13:\n",
    "    print(\"Condition True\")\n",
    "else:\n",
    "    print(\"Condition False\")"
   ]
  },
  {
   "cell_type": "code",
   "execution_count": 2,
   "metadata": {},
   "outputs": [
    {
     "name": "stdout",
     "output_type": "stream",
     "text": [
      "Condition False\n"
     ]
    }
   ],
   "source": [
    "name =\"hasan\"\n",
    "age=13\n",
    "if name==\"hasan\" and age==10:\n",
    "    print(\"Condition True\")\n",
    "else:\n",
    "    print(\"Condition False\")"
   ]
  },
  {
   "cell_type": "code",
   "execution_count": 4,
   "metadata": {},
   "outputs": [
    {
     "name": "stdout",
     "output_type": "stream",
     "text": [
      "Condition True\n"
     ]
    }
   ],
   "source": [
    "name =\"hasan\"\n",
    "age=13\n",
    "if name==\"hasan\" or age==13:\n",
    "    print(\"Condition True\")\n",
    "else:\n",
    "    print(\"Condition False\")"
   ]
  },
  {
   "cell_type": "code",
   "execution_count": 5,
   "metadata": {},
   "outputs": [
    {
     "name": "stdout",
     "output_type": "stream",
     "text": [
      "Condition True\n"
     ]
    }
   ],
   "source": [
    "name =\"hasan\"\n",
    "age=13\n",
    "if name==\"hasan\" or age==10:\n",
    "    print(\"Condition True\")\n",
    "else:\n",
    "    print(\"Condition False\")"
   ]
  },
  {
   "cell_type": "code",
   "execution_count": null,
   "metadata": {},
   "outputs": [],
   "source": []
  }
 ],
 "metadata": {
  "kernelspec": {
   "display_name": "Python 3",
   "language": "python",
   "name": "python3"
  },
  "language_info": {
   "codemirror_mode": {
    "name": "ipython",
    "version": 3
   },
   "file_extension": ".py",
   "mimetype": "text/x-python",
   "name": "python",
   "nbconvert_exporter": "python",
   "pygments_lexer": "ipython3",
   "version": "3.11.4"
  },
  "orig_nbformat": 4
 },
 "nbformat": 4,
 "nbformat_minor": 2
}
