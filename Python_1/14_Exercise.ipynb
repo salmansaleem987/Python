{
 "cells": [
  {
   "cell_type": "code",
   "execution_count": 3,
   "metadata": {},
   "outputs": [
    {
     "name": "stdout",
     "output_type": "stream",
     "text": [
      "X is 9 ,Y is 8 , Z is 7, SUM is 24 and AVG is 8.0 \n"
     ]
    }
   ],
   "source": [
    "x=int(input(\"Enter number\"))\n",
    "y=int(input(\"Enter number\"))\n",
    "z=int(input(\"Enter number\"))\n",
    "sum=x+y+z\n",
    "avg=sum/3\n",
    "print(f\"X is {x} ,Y is {y} , Z is {z}, SUM is {sum} and AVG is {avg} \")"
   ]
  },
  {
   "cell_type": "code",
   "execution_count": 10,
   "metadata": {},
   "outputs": [
    {
     "name": "stdout",
     "output_type": "stream",
     "text": [
      "X is 4 ,Y is 5 , Z is 6, SUM is 15 and AVG is 5.0 \n"
     ]
    }
   ],
   "source": [
    "x,y,z=(input(\"Enter three number\")).split(\",\")\n",
    "sum=int(x)+int(y)+int(z)\n",
    "avg=sum/3\n",
    "print(f\"X is {x} ,Y is {y} , Z is {z}, SUM is {sum} and AVG is {avg} \")"
   ]
  },
  {
   "cell_type": "code",
   "execution_count": null,
   "metadata": {},
   "outputs": [],
   "source": []
  }
 ],
 "metadata": {
  "kernelspec": {
   "display_name": "Python 3",
   "language": "python",
   "name": "python3"
  },
  "language_info": {
   "codemirror_mode": {
    "name": "ipython",
    "version": 3
   },
   "file_extension": ".py",
   "mimetype": "text/x-python",
   "name": "python",
   "nbconvert_exporter": "python",
   "pygments_lexer": "ipython3",
   "version": "3.11.4"
  },
  "orig_nbformat": 4
 },
 "nbformat": 4,
 "nbformat_minor": 2
}
