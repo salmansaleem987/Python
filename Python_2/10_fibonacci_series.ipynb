{
 "cells": [
  {
   "cell_type": "code",
   "execution_count": 4,
   "metadata": {},
   "outputs": [
    {
     "name": "stdout",
     "output_type": "stream",
     "text": [
      "0 1 1 2 3 5 8 13 21 34 "
     ]
    }
   ],
   "source": [
    "def fibonacci_seq(n):\n",
    "    a=0 \n",
    "    b=1 \n",
    "    if n == 1:\n",
    "        print(a)\n",
    "    elif n == 2:\n",
    "        print(a, b)\n",
    "    else:\n",
    "        print(a,b ,end=\" \")\n",
    "        for i in range(n-2):\n",
    "            c= a+b\n",
    "            a= b \n",
    "            b= c\n",
    "            print(b, end=\" \")\n",
    "fibonacci_seq(10)"
   ]
  },
  {
   "cell_type": "code",
   "execution_count": null,
   "metadata": {},
   "outputs": [],
   "source": []
  }
 ],
 "metadata": {
  "kernelspec": {
   "display_name": "Python 3",
   "language": "python",
   "name": "python3"
  },
  "language_info": {
   "codemirror_mode": {
    "name": "ipython",
    "version": 3
   },
   "file_extension": ".py",
   "mimetype": "text/x-python",
   "name": "python",
   "nbconvert_exporter": "python",
   "pygments_lexer": "ipython3",
   "version": "3.11.4"
  },
  "orig_nbformat": 4
 },
 "nbformat": 4,
 "nbformat_minor": 2
}
