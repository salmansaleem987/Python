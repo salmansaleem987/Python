{
 "cells": [
  {
   "cell_type": "code",
   "execution_count": 2,
   "metadata": {},
   "outputs": [
    {
     "name": "stdout",
     "output_type": "stream",
     "text": [
      "Too high\n",
      "win and you guess this number 2 times\n"
     ]
    }
   ],
   "source": [
    "winning_num = 50\n",
    "guess=1\n",
    "number=int(input(\"Guess number between 1 and 100\"))\n",
    "game_over=False\n",
    "while not game_over:\n",
    "    if number == winning_num:\n",
    "        print(f\"win and you guess this number {guess} times\")\n",
    "        game_over= True\n",
    "    else:\n",
    "        if number < winning_num:\n",
    "            print(\"Too low\")\n",
    "            guess+=1\n",
    "            number=int(input(\"Guess again\"))\n",
    "        else:\n",
    "            print(\"Too high\")\n",
    "            guess+=1\n",
    "            number= int(input(\"Guess again\"))\n"
   ]
  },
  {
   "cell_type": "code",
   "execution_count": 5,
   "metadata": {},
   "outputs": [
    {
     "name": "stdout",
     "output_type": "stream",
     "text": [
      "Too low\n",
      "Too low\n",
      "Too low\n",
      "Too low\n",
      "Too high\n",
      "Too high\n",
      "Too low\n",
      "Too high\n",
      "win and you guess this number 9 times\n"
     ]
    }
   ],
   "source": [
    "import random\n",
    "winning_num = random.randint(1,100)\n",
    "guess=1\n",
    "number=int(input(\"Guess number between 1 and 100\"))\n",
    "game_over=False\n",
    "while not game_over:\n",
    "    if number == winning_num:\n",
    "        print(f\"win and you guess this number {guess} times\")\n",
    "        game_over= True\n",
    "    else:\n",
    "        if number < winning_num:\n",
    "            print(\"Too low\")\n",
    "            guess +=1\n",
    "            number=int(input(\"Guess again\"))\n",
    "        else:\n",
    "            print(\"Too high\")\n",
    "            guess+=1\n",
    "            number= int(input(\"Guess again\"))"
   ]
  },
  {
   "cell_type": "code",
   "execution_count": 3,
   "metadata": {},
   "outputs": [
    {
     "name": "stdout",
     "output_type": "stream",
     "text": [
      "Too low\n",
      "Too low\n",
      "Too high\n",
      "Too high\n",
      "win and you guess this number 5 times\n"
     ]
    }
   ],
   "source": [
    "# ------------------------------- Dry Principle -------------------------------\n",
    "winning_num = 50\n",
    "guess=1\n",
    "number=int(input(\"Guess number between 1 and 100\"))\n",
    "game_over=False\n",
    "while not game_over:\n",
    "    if number == winning_num:\n",
    "        print(f\"win and you guess this number {guess} times\")\n",
    "        game_over= True\n",
    "    else:\n",
    "        if number < winning_num:\n",
    "            print(\"Too low\")\n",
    "        else:\n",
    "            print(\"Too high\")\n",
    "        \n",
    "        guess+=1\n",
    "        number= int(input(\"Guess again\"))\n"
   ]
  },
  {
   "cell_type": "code",
   "execution_count": null,
   "metadata": {},
   "outputs": [],
   "source": []
  }
 ],
 "metadata": {
  "kernelspec": {
   "display_name": "Python 3",
   "language": "python",
   "name": "python3"
  },
  "language_info": {
   "codemirror_mode": {
    "name": "ipython",
    "version": 3
   },
   "file_extension": ".py",
   "mimetype": "text/x-python",
   "name": "python",
   "nbconvert_exporter": "python",
   "pygments_lexer": "ipython3",
   "version": "3.11.4"
  },
  "orig_nbformat": 4
 },
 "nbformat": 4,
 "nbformat_minor": 2
}
