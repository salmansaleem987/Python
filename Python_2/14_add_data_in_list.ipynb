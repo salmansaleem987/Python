{
 "cells": [
  {
   "cell_type": "code",
   "execution_count": 3,
   "metadata": {},
   "outputs": [
    {
     "name": "stdout",
     "output_type": "stream",
     "text": [
      "['apple', 'banana', 'organge', 'mango']\n"
     ]
    }
   ],
   "source": [
    "fruit=[\"apple\" ,\"banana\",\"organge\"]\n",
    "fruit.append(\"mango\")\n",
    "print(fruit)"
   ]
  },
  {
   "cell_type": "code",
   "execution_count": 4,
   "metadata": {},
   "outputs": [
    {
     "name": "stdout",
     "output_type": "stream",
     "text": [
      "['apple', 'mango', 'banana', 'orange']\n"
     ]
    }
   ],
   "source": [
    "fruits=[]\n",
    "fruits.append(\"apple\")\n",
    "fruits.append(\"mango\")\n",
    "fruits.append(\"banana\")\n",
    "fruits.append(\"orange\")\n",
    "print(fruits)"
   ]
  },
  {
   "cell_type": "code",
   "execution_count": 7,
   "metadata": {},
   "outputs": [
    {
     "name": "stdout",
     "output_type": "stream",
     "text": [
      "['mango', 'apple', 'orange', 'banana']\n"
     ]
    }
   ],
   "source": [
    "fruits1 = [\"mango\", \"orange\"]\n",
    "fruits1.insert(1, \"apple\")\n",
    "fruits1.insert(3,\"banana\")\n",
    "print(fruits1)"
   ]
  },
  {
   "cell_type": "code",
   "execution_count": 8,
   "metadata": {},
   "outputs": [
    {
     "name": "stdout",
     "output_type": "stream",
     "text": [
      "['apple', 'orange', 'orange', 'banan']\n"
     ]
    }
   ],
   "source": [
    "f1=[\"apple\",\"orange\"]\n",
    "f2=[\"orange\",\"banan\"]\n",
    "f=f1+f2\n",
    "print(f)"
   ]
  },
  {
   "cell_type": "code",
   "execution_count": 10,
   "metadata": {},
   "outputs": [
    {
     "name": "stdout",
     "output_type": "stream",
     "text": [
      "['apple', 'orange', 'grapes', 'orange', 'banana']\n"
     ]
    }
   ],
   "source": [
    "f1=[\"apple\",\"orange\",\"grapes\"]\n",
    "f2=[\"orange\",\"banana\"]\n",
    "f1.extend(f2)\n",
    "print(f1)"
   ]
  },
  {
   "cell_type": "code",
   "execution_count": 12,
   "metadata": {},
   "outputs": [
    {
     "name": "stdout",
     "output_type": "stream",
     "text": [
      "['apple', 'orange', 'grapes', ['orange', 'banana']]\n"
     ]
    }
   ],
   "source": [
    "f1=[\"apple\",\"orange\",\"grapes\"]\n",
    "f2=[\"orange\",\"banana\"]\n",
    "f1.append(f2)\n",
    "print(f1)"
   ]
  },
  {
   "cell_type": "code",
   "execution_count": null,
   "metadata": {},
   "outputs": [],
   "source": []
  }
 ],
 "metadata": {
  "kernelspec": {
   "display_name": "Python 3",
   "language": "python",
   "name": "python3"
  },
  "language_info": {
   "codemirror_mode": {
    "name": "ipython",
    "version": 3
   },
   "file_extension": ".py",
   "mimetype": "text/x-python",
   "name": "python",
   "nbconvert_exporter": "python",
   "pygments_lexer": "ipython3",
   "version": "3.11.4"
  },
  "orig_nbformat": 4
 },
 "nbformat": 4,
 "nbformat_minor": 2
}
