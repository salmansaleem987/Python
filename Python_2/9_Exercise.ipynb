{
 "cells": [
  {
   "cell_type": "code",
   "execution_count": 2,
   "metadata": {},
   "outputs": [
    {
     "name": "stdout",
     "output_type": "stream",
     "text": [
      "n2 is greater\n"
     ]
    }
   ],
   "source": [
    "def greater(n1,n2):\n",
    "    if n1>n2:\n",
    "        return \"n1 is greater\"\n",
    "    else:\n",
    "        return \"n2 is greater\"\n",
    "x=int(input(\"Enter first number\" ))\n",
    "y=int(input(\"Enter second number\" ))\n",
    "print(greater(x,y))"
   ]
  },
  {
   "cell_type": "code",
   "execution_count": 6,
   "metadata": {},
   "outputs": [
    {
     "name": "stdout",
     "output_type": "stream",
     "text": [
      "n3 is greater\n"
     ]
    }
   ],
   "source": [
    "def greater(n1,n2 ,n3):\n",
    "    if n1> n2 and n1>n3:\n",
    "        return \"n1 is greater\"\n",
    "    elif n2> n1 and n2>n3:\n",
    "        return \"n2 is greater\"\n",
    "    else:\n",
    "        return \"n3 is greater\"\n",
    "x=int(input(\"Enter first number\" ))\n",
    "y=int(input(\"Enter second number\" ))\n",
    "z=int(input(\"Enter third number\" ))\n",
    "print(greater(x,y,z))"
   ]
  },
  {
   "cell_type": "code",
   "execution_count": 9,
   "metadata": {},
   "outputs": [
    {
     "name": "stdout",
     "output_type": "stream",
     "text": [
      "True\n"
     ]
    }
   ],
   "source": [
    "def is_palindrome(word):\n",
    "    reversed_word=word[::-1]\n",
    "    if word == reversed_word:\n",
    "        return True\n",
    "    else:\n",
    "        return False\n",
    "print(is_palindrome(\"naman\"))\n",
    "    "
   ]
  },
  {
   "cell_type": "code",
   "execution_count": null,
   "metadata": {},
   "outputs": [],
   "source": []
  }
 ],
 "metadata": {
  "kernelspec": {
   "display_name": "Python 3",
   "language": "python",
   "name": "python3"
  },
  "language_info": {
   "codemirror_mode": {
    "name": "ipython",
    "version": 3
   },
   "file_extension": ".py",
   "mimetype": "text/x-python",
   "name": "python",
   "nbconvert_exporter": "python",
   "pygments_lexer": "ipython3",
   "version": "3.11.4"
  },
  "orig_nbformat": 4
 },
 "nbformat": 4,
 "nbformat_minor": 2
}
