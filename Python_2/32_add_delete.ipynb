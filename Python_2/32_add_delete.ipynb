{
 "cells": [
  {
   "cell_type": "code",
   "execution_count": 25,
   "metadata": {},
   "outputs": [
    {
     "name": "stdout",
     "output_type": "stream",
     "text": [
      "{'name': 'hasan', 'age': 13, 'fav_movies': ['abc', 'erkdf', 'cimr', 'sdf'], 'fav_tunes': ['awakening', 'fairy tale']}\n"
     ]
    }
   ],
   "source": [
    "user_info = {\n",
    "    'name' : 'hasan',\n",
    "    'age': 13,\n",
    "    'fav_movies': ['abc', 'erkdf', 'cimr', 'sdf'],\n",
    "    'fav_tunes': ['awakening', 'fairy tale'],\n",
    "}\n",
    "print(user_info)"
   ]
  },
  {
   "cell_type": "code",
   "execution_count": 26,
   "metadata": {},
   "outputs": [
    {
     "name": "stdout",
     "output_type": "stream",
     "text": [
      "{'name': 'hasan', 'age': 13, 'fav_movies': ['abc', 'erkdf', 'cimr', 'sdf'], 'fav_tunes': ['awakening', 'fairy tale'], 'fav_Song': ['song1', 'song2']}\n"
     ]
    }
   ],
   "source": [
    "user_info['fav_Song']=['song1', 'song2']\n",
    "print(user_info)"
   ]
  },
  {
   "cell_type": "code",
   "execution_count": 28,
   "metadata": {},
   "outputs": [
    {
     "name": "stdout",
     "output_type": "stream",
     "text": [
      "{'name': ['Hasan ali'], 'age': 13, 'fav_movies': ['abc', 'erkdf', 'cimr', 'sdf'], 'fav_tunes': ['awakening', 'fairy tale'], 'fav_Song': ['song1', 'song2']}\n"
     ]
    }
   ],
   "source": [
    "user_info['name']=['Hasan ali']\n",
    "print(user_info)"
   ]
  },
  {
   "cell_type": "code",
   "execution_count": 22,
   "metadata": {},
   "outputs": [
    {
     "name": "stdout",
     "output_type": "stream",
     "text": [
      "popped item is ['awakening', 'fairy tale']\n",
      "{'name': 'hasan', 'age': 13, 'fav_movies': ['abc', 'erkdf', 'cimr', 'sdf'], 'fav_Song': ['song1', 'song2']}\n",
      "<class 'list'>\n"
     ]
    }
   ],
   "source": [
    "popped_item= user_info.pop('fav_tunes')\n",
    "print(f'popped item is {popped_item}')\n",
    "print(user_info)\n",
    "print(type(popped_item))"
   ]
  },
  {
   "cell_type": "code",
   "execution_count": 18,
   "metadata": {},
   "outputs": [
    {
     "name": "stdout",
     "output_type": "stream",
     "text": [
      "Deleted data is ('fav_Song', ['song1', 'song2'])\n",
      "{'name': 'hasan', 'age': 13, 'fav_movies': ['abc', 'erkdf', 'cimr', 'sdf']}\n",
      "<class 'tuple'>\n"
     ]
    }
   ],
   "source": [
    "deleted_data= user_info.popitem()              # popitem randomly delete the data\n",
    "print(f\"Deleted data is {deleted_data}\")\n",
    "print(user_info)\n",
    "print(type(deleted_data))"
   ]
  },
  {
   "cell_type": "code",
   "execution_count": null,
   "metadata": {},
   "outputs": [],
   "source": []
  }
 ],
 "metadata": {
  "kernelspec": {
   "display_name": "Python 3",
   "language": "python",
   "name": "python3"
  },
  "language_info": {
   "codemirror_mode": {
    "name": "ipython",
    "version": 3
   },
   "file_extension": ".py",
   "mimetype": "text/x-python",
   "name": "python",
   "nbconvert_exporter": "python",
   "pygments_lexer": "ipython3",
   "version": "3.11.4"
  },
  "orig_nbformat": 4
 },
 "nbformat": 4,
 "nbformat_minor": 2
}
