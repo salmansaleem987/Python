{
 "cells": [
  {
   "cell_type": "code",
   "execution_count": 9,
   "metadata": {},
   "outputs": [
    {
     "name": "stdout",
     "output_type": "stream",
     "text": [
      "first name is hasan\n",
      "last name is ali\n",
      "you age is 10\n"
     ]
    }
   ],
   "source": [
    "def user_info(first_name, last_name, age =10):\n",
    "    \n",
    "    print(f\"first name is {first_name}\")\n",
    "    print(f\"last name is {last_name}\")\n",
    "    print(f\"you age is {age}\")\n",
    "    \n",
    "user_info(\"hasan\", \"ali\")\n"
   ]
  },
  {
   "cell_type": "code",
   "execution_count": 10,
   "metadata": {},
   "outputs": [
    {
     "name": "stdout",
     "output_type": "stream",
     "text": [
      "first name is hasan\n",
      "last name is ali\n",
      "you age is 13\n"
     ]
    }
   ],
   "source": [
    "def user_info(first_name, last_name, age =10):\n",
    "    \n",
    "    print(f\"first name is {first_name}\")\n",
    "    print(f\"last name is {last_name}\")\n",
    "    print(f\"you age is {age}\")\n",
    "    \n",
    "user_info(\"hasan\", \"ali\" ,13)"
   ]
  },
  {
   "cell_type": "code",
   "execution_count": 11,
   "metadata": {},
   "outputs": [
    {
     "name": "stdout",
     "output_type": "stream",
     "text": [
      "first name is hasan\n",
      "last name is ali\n",
      "you age is 13\n"
     ]
    }
   ],
   "source": [
    "def user_info(first_name, last_name, age =None):\n",
    "    \n",
    "    print(f\"first name is {first_name}\")\n",
    "    print(f\"last name is {last_name}\")\n",
    "    print(f\"you age is {age}\")\n",
    "    \n",
    "user_info(\"hasan\", \"ali\" ,13)"
   ]
  },
  {
   "cell_type": "code",
   "execution_count": 13,
   "metadata": {},
   "outputs": [
    {
     "name": "stdout",
     "output_type": "stream",
     "text": [
      "first name is hasan\n",
      "last name is ali\n",
      "you age is 13\n"
     ]
    }
   ],
   "source": [
    "def user_info(first_name, last_name=\"Unknown\", age =None):\n",
    "    \n",
    "    print(f\"first name is {first_name}\")\n",
    "    print(f\"last name is {last_name}\")\n",
    "    print(f\"you age is {age}\")\n",
    "    \n",
    "user_info(\"hasan\", \"ali\" ,13)"
   ]
  },
  {
   "cell_type": "code",
   "execution_count": 16,
   "metadata": {},
   "outputs": [
    {
     "name": "stdout",
     "output_type": "stream",
     "text": [
      "first name is hasan\n",
      "last name is 13\n",
      "you age is 10\n"
     ]
    }
   ],
   "source": [
    "def user_info(first_name, last_name=\"Unknown\", age ):  # we can only make default parameter in the last.  \n",
    "    \n",
    "    print(f\"first name is {first_name}\")\n",
    "    print(f\"last name is {last_name}\")\n",
    "    print(f\"you age is {age}\")\n",
    "    \n",
    "user_info(\"hasan\", 13)"
   ]
  },
  {
   "cell_type": "code",
   "execution_count": null,
   "metadata": {},
   "outputs": [],
   "source": []
  }
 ],
 "metadata": {
  "kernelspec": {
   "display_name": "Python 3",
   "language": "python",
   "name": "python3"
  },
  "language_info": {
   "codemirror_mode": {
    "name": "ipython",
    "version": 3
   },
   "file_extension": ".py",
   "mimetype": "text/x-python",
   "name": "python",
   "nbconvert_exporter": "python",
   "pygments_lexer": "ipython3",
   "version": "3.11.4"
  },
  "orig_nbformat": 4
 },
 "nbformat": 4,
 "nbformat_minor": 2
}
