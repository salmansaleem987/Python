{
 "cells": [
  {
   "cell_type": "code",
   "execution_count": 3,
   "metadata": {},
   "outputs": [
    {
     "name": "stdout",
     "output_type": "stream",
     "text": [
      "{'name': 'hasan', 'age': 13}\n",
      "<class 'dict'>\n"
     ]
    }
   ],
   "source": [
    "user={'name': \"hasan\" , 'age':13}\n",
    "print(user)\n",
    "print(type(user))"
   ]
  },
  {
   "cell_type": "code",
   "execution_count": 4,
   "metadata": {},
   "outputs": [
    {
     "name": "stdout",
     "output_type": "stream",
     "text": [
      "{'name': 'hasan', 'age': 13}\n",
      "<class 'dict'>\n"
     ]
    }
   ],
   "source": [
    "user1=dict(name =\"hasan\", age= 13)\n",
    "print(user1)\n",
    "print(type(user1))"
   ]
  },
  {
   "cell_type": "code",
   "execution_count": 7,
   "metadata": {},
   "outputs": [
    {
     "name": "stdout",
     "output_type": "stream",
     "text": [
      "hasan\n",
      "13\n"
     ]
    }
   ],
   "source": [
    "user={'name': \"hasan\" , 'age':13}\n",
    "print(user['name'])\n",
    "print(user['age'])"
   ]
  },
  {
   "cell_type": "code",
   "execution_count": 10,
   "metadata": {},
   "outputs": [
    {
     "name": "stdout",
     "output_type": "stream",
     "text": [
      "{'name': 'hasan', 'age': 13, 'fav_movie': ['A', 'C', 'k', 'W', 'O'], 'fav_games': ['sd', 'fds', 'rer']}\n",
      "['A', 'C', 'k', 'W', 'O']\n"
     ]
    }
   ],
   "source": [
    "user_info={\n",
    "    'name':'hasan',\n",
    "    'age':13,\n",
    "    'fav_movie': ['A','C',\"k\",'W',\"O\"],\n",
    "    \"fav_games\":['sd','fds','rer'],\n",
    "    \n",
    "}\n",
    "print(user_info)\n",
    "print(user_info['fav_movie'])"
   ]
  },
  {
   "cell_type": "code",
   "execution_count": 12,
   "metadata": {},
   "outputs": [
    {
     "name": "stdout",
     "output_type": "stream",
     "text": [
      "{'name': 'hasan', 'age': 13}\n"
     ]
    }
   ],
   "source": [
    "user_info2={}\n",
    "user_info2['name']='hasan'\n",
    "user_info2['age']= 13\n",
    "print(user_info2)"
   ]
  },
  {
   "cell_type": "code",
   "execution_count": null,
   "metadata": {},
   "outputs": [],
   "source": []
  }
 ],
 "metadata": {
  "kernelspec": {
   "display_name": "Python 3",
   "language": "python",
   "name": "python3"
  },
  "language_info": {
   "codemirror_mode": {
    "name": "ipython",
    "version": 3
   },
   "file_extension": ".py",
   "mimetype": "text/x-python",
   "name": "python",
   "nbconvert_exporter": "python",
   "pygments_lexer": "ipython3",
   "version": "3.11.4"
  },
  "orig_nbformat": 4
 },
 "nbformat": 4,
 "nbformat_minor": 2
}
