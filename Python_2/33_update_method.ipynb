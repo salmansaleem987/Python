{
 "cells": [
  {
   "cell_type": "code",
   "execution_count": 2,
   "metadata": {},
   "outputs": [],
   "source": [
    "user_info = {\n",
    "    'name' : 'hasan',\n",
    "    'age': 13,\n",
    "    'fav_movies': ['abc', 'erkdf', 'cimr', 'sdf'],\n",
    "    'fav_tunes': ['awakening', 'fairy tale'],\n",
    "}"
   ]
  },
  {
   "cell_type": "code",
   "execution_count": 6,
   "metadata": {},
   "outputs": [
    {
     "name": "stdout",
     "output_type": "stream",
     "text": [
      "{'name': 'hasan', 'age': 13, 'fav_movies': ['abc', 'erkdf', 'cimr', 'sdf'], 'fav_tunes': ['awakening', 'fairy tale'], 'song1': 'abc', 'hobbies': ['coding', 'reading']}\n"
     ]
    }
   ],
   "source": [
    "more_info ={'song1': 'abc', 'hobbies': ['coding','reading']}\n",
    "user_info.update(more_info)\n",
    "print(user_info)"
   ]
  },
  {
   "cell_type": "code",
   "execution_count": null,
   "metadata": {},
   "outputs": [],
   "source": []
  }
 ],
 "metadata": {
  "kernelspec": {
   "display_name": "Python 3",
   "language": "python",
   "name": "python3"
  },
  "language_info": {
   "codemirror_mode": {
    "name": "ipython",
    "version": 3
   },
   "file_extension": ".py",
   "mimetype": "text/x-python",
   "name": "python",
   "nbconvert_exporter": "python",
   "pygments_lexer": "ipython3",
   "version": "3.11.4"
  },
  "orig_nbformat": 4
 },
 "nbformat": 4,
 "nbformat_minor": 2
}
