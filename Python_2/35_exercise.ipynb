{
 "cells": [
  {
   "cell_type": "code",
   "execution_count": 1,
   "metadata": {},
   "outputs": [
    {
     "name": "stdout",
     "output_type": "stream",
     "text": [
      "{1: 1, 2: 8, 3: 27}\n"
     ]
    }
   ],
   "source": [
    "def cube_finder(n):\n",
    "    cube = {}\n",
    "    for i in range(1 , n+1):\n",
    "        cube[i]=i**3\n",
    "    return cube\n",
    "print(cube_finder(3))"
   ]
  },
  {
   "cell_type": "code",
   "execution_count": 2,
   "metadata": {},
   "outputs": [
    {
     "name": "stdout",
     "output_type": "stream",
     "text": [
      "{'name': 'hasan', 'age': '13', 'fav_movie': ['sb', 'asda'], 'fav_song': ['s1', 's']}\n"
     ]
    }
   ],
   "source": [
    "user ={}\n",
    "name = input(\"Enter your name\")\n",
    "age = (input(\"Enter your name\"))\n",
    "fav_movie= input(\"Enter your fav_movies separated by comma\").split(\",\")\n",
    "fav_song= input(\"Enter your fav_song separated by comma\").split(\",\")\n",
    "\n",
    "user['name']=name\n",
    "user['age']=age\n",
    "user['fav_movie']=fav_movie\n",
    "user['fav_song']=fav_song\n",
    "print(user)"
   ]
  },
  {
   "cell_type": "code",
   "execution_count": null,
   "metadata": {},
   "outputs": [],
   "source": []
  }
 ],
 "metadata": {
  "kernelspec": {
   "display_name": "Python 3",
   "language": "python",
   "name": "python3"
  },
  "language_info": {
   "codemirror_mode": {
    "name": "ipython",
    "version": 3
   },
   "file_extension": ".py",
   "mimetype": "text/x-python",
   "name": "python",
   "nbconvert_exporter": "python",
   "pygments_lexer": "ipython3",
   "version": "3.11.4"
  },
  "orig_nbformat": 4
 },
 "nbformat": 4,
 "nbformat_minor": 2
}
